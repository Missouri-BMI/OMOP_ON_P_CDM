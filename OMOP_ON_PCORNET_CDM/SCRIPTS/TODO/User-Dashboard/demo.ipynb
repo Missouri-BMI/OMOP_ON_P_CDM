{
 "cells": [
  {
   "cell_type": "code",
   "execution_count": null,
   "metadata": {},
   "outputs": [],
   "source": [
    "import secrets\n",
    "import string\n",
    "import hashlib\n",
    "import bcrypt\n",
    "\n"
   ]
  },
  {
   "cell_type": "code",
   "execution_count": null,
   "metadata": {},
   "outputs": [],
   "source": [
    "def generate_secure_password(length=16):\n",
    "    \"\"\"Generate a strong password ensuring at least one character from each required category.\"\"\"\n",
    "    if length < 3:\n",
    "        raise ValueError(\"Password length must be at least 3\")\n",
    "\n",
    "    # Required character sets\n",
    "    uppercase = secrets.choice(string.ascii_uppercase)\n",
    "    lowercase = secrets.choice(string.ascii_lowercase)\n",
    "    digit = secrets.choice(string.digits)\n",
    "\n",
    "    # Remaining characters\n",
    "    all_chars = string.ascii_letters + string.digits\n",
    "    remaining_chars = ''.join(secrets.choice(all_chars) for _ in range(length - 3))\n",
    "\n",
    "    # Shuffle to avoid predictable order\n",
    "    password_list = list(uppercase + lowercase + digit + remaining_chars)\n",
    "    secrets.SystemRandom().shuffle(password_list)\n",
    "    \n",
    "    return ''.join(password_list)\n",
    "\n"
   ]
  },
  {
   "cell_type": "code",
   "execution_count": null,
   "metadata": {},
   "outputs": [],
   "source": [
    "# Hash a password using MD5\n",
    "def hash_md5(password: str) -> str:\n",
    "    return hashlib.md5(password.encode()).hexdigest()\n"
   ]
  },
  {
   "cell_type": "code",
   "execution_count": null,
   "metadata": {},
   "outputs": [],
   "source": [
    "# Hash a password using SHA-256\n",
    "def hash_sha256(password: str) -> str:\n",
    "    return hashlib.sha256(password.encode()).hexdigest()\n"
   ]
  },
  {
   "cell_type": "code",
   "execution_count": null,
   "metadata": {},
   "outputs": [],
   "source": [
    "# Hash a password using bcrypt\n",
    "def hash_bcrypt(password: str) -> str:\n",
    "    salt = bcrypt.gensalt()\n",
    "    hashed = bcrypt.hashpw(password.encode(), salt)\n",
    "    return hashed.decode()\n",
    "\n",
    "# Verify a password with bcrypt\n",
    "def verify_bcrypt(password: str, hashed_password: str) -> bool:\n",
    "    return bcrypt.checkpw(password.encode(), hashed_password.encode())\n"
   ]
  },
  {
   "cell_type": "code",
   "execution_count": null,
   "metadata": {},
   "outputs": [],
   "source": [
    "def hash_password(password: str, salt_rounds: int = 10) -> str:\n",
    "    \"\"\"Hashes a password using bcrypt.\"\"\"\n",
    "    salt = bcrypt.gensalt(prefix=b\"2a\")\n",
    "    hashed_password = bcrypt.hashpw(password.encode(), salt)\n",
    "    return hashed_password.decode()"
   ]
  },
  {
   "cell_type": "code",
   "execution_count": null,
   "metadata": {},
   "outputs": [],
   "source": [
    "password = generate_secure_password()\n",
    "print(\"Generated Password:\", password)\n",
    "md5_hashed = hash_md5(password)\n",
    "print(\"MD5 Hashed:\", md5_hashed)\n",
    "\n",
    "sha256_hashed = hash_sha256(password)\n",
    "print(\"SHA-256 Hashed:\", sha256_hashed)\n",
    "\n",
    "bcrypt_hashed = hash_bcrypt(password)\n",
    "print(\"Bcrypt Verify:\", bcrypt_hashed, verify_bcrypt(password, bcrypt_hashed))\n",
    "\n",
    "\n",
    "hashed_pw = hash_password(password)\n",
    "print(\"Bcrypt salt Verify:\", hashed_pw, verify_bcrypt(password, hashed_pw))"
   ]
  },
  {
   "cell_type": "code",
   "execution_count": null,
   "metadata": {},
   "outputs": [],
   "source": [
    "def generate_entry(user_name):\n",
    "    password = generate_secure_password()\n",
    "    md5_hashed = hash_md5(password)\n",
    "    sha256_hashed = hash_sha256(password)\n",
    "    bcrypt_hashed = hash_bcrypt(password)\n",
    "    return (user_name, password, md5_hashed, sha256_hashed, bcrypt_hashed)"
   ]
  },
  {
   "cell_type": "code",
   "execution_count": null,
   "metadata": {},
   "outputs": [],
   "source": [
    "array = list(map(generate_entry, [\n",
    "\t'sbgk3@umsystem.edu',\n",
    "\t'fergusonsha@umsystem.edu',\n",
    "\t'jcmwfn@umsystem.edu',\n",
    "\t'yjrnk@umsystem.edu',\n",
    "\t'tjmcg6@umsystem.edu',\n",
    "\t'mandhadiv@umsystem.edu',\n",
    "    \n",
    "]))"
   ]
  },
  {
   "cell_type": "code",
   "execution_count": null,
   "metadata": {},
   "outputs": [],
   "source": [
    "print(array)\n",
    "for entry in array:\n",
    "    print(f\"Email: {entry[0]}\")\n",
    "    print(f\"Password: {entry[1]}\")\n",
    "    print(f\"MD5 Hashed: {entry[2]}\")\n",
    "    print(f\"SHA-256 Hashed: {entry[3]}\")\n",
    "    print(f\"Bcrypt Hashed: {entry[4]}\")\n",
    "    print()"
   ]
  },
  {
   "cell_type": "code",
   "execution_count": null,
   "metadata": {},
   "outputs": [],
   "source": [
    "generate_entry('')"
   ]
  }
 ],
 "metadata": {
  "kernelspec": {
   "display_name": "Python 3 (ipykernel)",
   "language": "python",
   "name": "python3"
  },
  "language_info": {
   "codemirror_mode": {
    "name": "ipython",
    "version": 3
   },
   "file_extension": ".py",
   "mimetype": "text/x-python",
   "name": "python",
   "nbconvert_exporter": "python",
   "pygments_lexer": "ipython3",
   "version": "3.12.6"
  }
 },
 "nbformat": 4,
 "nbformat_minor": 2
}
